{
  "nbformat": 4,
  "nbformat_minor": 0,
  "metadata": {
    "colab": {
      "name": "Tutorial2.ipynb",
      "provenance": [],
      "collapsed_sections": [],
      "include_colab_link": true
    },
    "kernelspec": {
      "name": "python3",
      "display_name": "Python 3"
    }
  },
  "cells": [
    {
      "cell_type": "markdown",
      "metadata": {
        "id": "view-in-github",
        "colab_type": "text"
      },
      "source": [
        "<a href=\"https://colab.research.google.com/github/kenpeng95/SEHS4676Assi-Q1/blob/master/Tutorial2.ipynb\" target=\"_parent\"><img src=\"https://colab.research.google.com/assets/colab-badge.svg\" alt=\"Open In Colab\"/></a>"
      ]
    },
    {
      "cell_type": "code",
      "metadata": {
        "id": "UV_DfD7-Gdn2",
        "outputId": "08a4e16c-f0b0-4130-fd79-8800f4c31ef4",
        "colab": {
          "base_uri": "https://localhost:8080/",
          "height": 119
        }
      },
      "source": [
        "# Question 1\n",
        "import numpy as np\n",
        "M = np.array([\n",
        "        [50,20,-10],\n",
        "        [80,30,-20],\n",
        "        [100,30,-40],\n",
        "        [300,25,-160]])\n",
        "print(\"Table of the Question1:\", M)\n",
        "\n",
        "# Maximun decision\n",
        "Mmax= np.max(M)\n",
        "print(\"The maximum number:\",Mmax)\n",
        "\n",
        "# Minimun decision\n",
        "Mmin= np.min(M)\n",
        "print(\"The minimum number:\",Mmin)\n",
        "\n"
      ],
      "execution_count": null,
      "outputs": [
        {
          "output_type": "stream",
          "text": [
            "Table of the Question1: [[  50   20  -10]\n",
            " [  80   30  -20]\n",
            " [ 100   30  -40]\n",
            " [ 300   25 -160]]\n",
            "The maximum number: 300\n",
            "The minimum number: -160\n"
          ],
          "name": "stdout"
        }
      ]
    },
    {
      "cell_type": "code",
      "metadata": {
        "id": "_c_yOlCLO-9F",
        "outputId": "cd93f9ae-4c02-4620-f1f1-d1f48f206355",
        "colab": {
          "base_uri": "https://localhost:8080/",
          "height": 204
        }
      },
      "source": [
        "# Question 2\n",
        "import numpy as np\n",
        "# Table of the Question1\n",
        "M = np.array([\n",
        "        [300,300,300,300],\n",
        "        [255,350,350,350],\n",
        "        [210,305,400,400],\n",
        "        [165,260,355,450]])\n",
        "print(\"Table of the Question2:\",M)\n",
        "\n",
        "# Probability of each variable\n",
        "P = np.array([[0.1,0.3,0.5,0.1],\n",
        "        [0.1,0.3,0.5,0.1],\n",
        "        [0.1,0.3,0.5,0.1],\n",
        "        [0.1,0.3,0.5,0.1]])\n",
        "Me = M*P\n",
        "print(Me)\n",
        "\n",
        "Mrs = np.sum([Me[:,0],Me[:,1],Me[:,2],Me[:,3]],axis=0)\n",
        "print(Mrs)\n",
        "\n",
        "Mrsmax= np.max(Mrs)\n",
        "print(\"The maximum cost:\", Mrsmax)\n",
        "\n",
        "Mrsmin= np.min(Mrs)\n",
        "print(\"The minimum cost:\",Mrsmin)\n"
      ],
      "execution_count": null,
      "outputs": [
        {
          "output_type": "stream",
          "text": [
            "Table of the Question2: [[300 300 300 300]\n",
            " [255 350 350 350]\n",
            " [210 305 400 400]\n",
            " [165 260 355 450]]\n",
            "[[ 30.   90.  150.   30. ]\n",
            " [ 25.5 105.  175.   35. ]\n",
            " [ 21.   91.5 200.   40. ]\n",
            " [ 16.5  78.  177.5  45. ]]\n",
            "[300.  340.5 352.5 317. ]\n",
            "The maximum cost: 352.5\n",
            "The minimum cost: 300.0\n"
          ],
          "name": "stdout"
        }
      ]
    },
    {
      "cell_type": "code",
      "metadata": {
        "id": "hWt7AGYjGe-H",
        "outputId": "7db5e7d1-e139-4324-f6de-dbed3539c33f",
        "colab": {
          "base_uri": "https://localhost:8080/",
          "height": 170
        }
      },
      "source": [
        "# Question 3\n",
        "import numpy as np\n",
        "M = np.array([\n",
        "        [330,3480,6630],\n",
        "        [380,380,2630],\n",
        "        [430,430,430]])\n",
        "print(\"Table of the Question3:\",M)\n",
        "\n",
        "P = np.array([[0.4,0.3,0.3],\n",
        "        [0.4,0.3,0.3],\n",
        "        [0.4,0.3,0.3]])\n",
        "Me = M*P\n",
        "print(Me)\n",
        "\n",
        "Mrs = np.sum([Me[:,0],Me[:,1],Me[:,2]],axis=0)\n",
        "print(Mrs)\n",
        "\n",
        "Mrsmin= np.min(Mrs)\n",
        "print(\"The minimum cost:\", Mrsmin)\n",
        "\n",
        "Mrsmax= np.max(Mrs)\n",
        "print(\"The maximum cost:\", Mrsmax)"
      ],
      "execution_count": null,
      "outputs": [
        {
          "output_type": "stream",
          "text": [
            "Table of the Question3: [[ 330 3480 6630]\n",
            " [ 380  380 2630]\n",
            " [ 430  430  430]]\n",
            "[[ 132. 1044. 1989.]\n",
            " [ 152.  114.  789.]\n",
            " [ 172.  129.  129.]]\n",
            "[3165. 1055.  430.]\n",
            "The minimum cost: 430.0\n",
            "The maximum cost: 3165.0\n"
          ],
          "name": "stdout"
        }
      ]
    },
    {
      "cell_type": "code",
      "metadata": {
        "id": "t1YzJwsNGmsP",
        "outputId": "2b93048e-b7b4-4c0a-f2c3-0b2be31d7166",
        "colab": {
          "base_uri": "https://localhost:8080/",
          "height": 547
        }
      },
      "source": [
        "# Question 4\n",
        "\n",
        "D_list=[12,8,7,3,15,9,5,-2,7,7,7,7]\n",
        "U_list=[58,28,20,13,100,30,18,0,20,20,20,20]\n",
        "\n",
        "print(D_list)\n",
        "print(U_list)\n",
        "\n",
        "import matplotlib.pyplot as plt\n",
        "plt.plot([58,28,20,13,100,30,18,0,20,20,20,20])\n",
        "plt.ylabel('Utility (U)')\n",
        "plt.show()\n",
        "\n",
        "import matplotlib.pyplot as plt\n",
        "plt.plot([12,8,7,3,15,9,5,-2,7,7,7,7])\n",
        "plt.ylabel('The monetary values (D)')\n",
        "plt.show()\n"
      ],
      "execution_count": null,
      "outputs": [
        {
          "output_type": "stream",
          "text": [
            "[12, 8, 7, 3, 15, 9, 5, -2, 7, 7, 7, 7]\n",
            "[58, 28, 20, 13, 100, 30, 18, 0, 20, 20, 20, 20]\n"
          ],
          "name": "stdout"
        },
        {
          "output_type": "display_data",
          "data": {
            "image/png": "[encoded data removed]",
            "text/plain": [
              "<Figure size 432x288 with 1 Axes>"
            ]
          },
          "metadata": {
            "tags": [],
            "needs_background": "light"
          }
        },
        {
          "output_type": "display_data",
          "data": {
            "image/png": "[encoded data removed]",
            "text/plain": [
              "<Figure size 432x288 with 1 Axes>"
            ]
          },
          "metadata": {
            "tags": [],
            "needs_background": "light"
          }
        }
      ]
    },
    {
      "cell_type": "code",
      "metadata": {
        "id": "uPeVE31QGkpU"
      },
      "source": [
        ""
      ],
      "execution_count": null,
      "outputs": []
    }
  ]
}